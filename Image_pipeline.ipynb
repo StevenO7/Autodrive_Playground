{
  "nbformat": 4,
  "nbformat_minor": 0,
  "metadata": {
    "colab": {
      "provenance": [],
      "authorship_tag": "ABX9TyMx4Tn4L86gJnegIpNrCzC8",
      "include_colab_link": true
    },
    "kernelspec": {
      "name": "python3",
      "display_name": "Python 3"
    },
    "language_info": {
      "name": "python"
    }
  },
  "cells": [
    {
      "cell_type": "markdown",
      "metadata": {
        "id": "view-in-github",
        "colab_type": "text"
      },
      "source": [
        "<a href=\"https://colab.research.google.com/github/StevenO7/Autodrive_Playground/blob/main/Image_pipeline.ipynb\" target=\"_parent\"><img src=\"https://colab.research.google.com/assets/colab-badge.svg\" alt=\"Open In Colab\"/></a>"
      ]
    },
    {
      "cell_type": "markdown",
      "source": [
        "Image Augmentation program"
      ],
      "metadata": {
        "id": "FTFQqVqFiYK6"
      }
    },
    {
      "cell_type": "code",
      "execution_count": null,
      "metadata": {
        "id": "n7rKJCN5hsWs"
      },
      "outputs": [],
      "source": [
        "# prompt: a program that uses pytorch to augment user inputted images and outputs 25 augmented images of each. The augmentations can be different colours or different sizes or different resolutions\n",
        "\n",
        "!pip install torch torchvision torchaudio\n",
        "!pip install Pillow\n",
        "\n",
        "import torch\n",
        "import torchvision\n",
        "from torchvision import transforms\n",
        "from PIL import Image\n",
        "import os\n"
      ]
    },
    {
      "cell_type": "markdown",
      "source": [
        "Setup Locations"
      ],
      "metadata": {
        "id": "h4bvKJtkitNx"
      }
    },
    {
      "cell_type": "code",
      "source": [
        "image_path = \"input_image.jpg\"  # Replace with your image path\n",
        "output_dir = \"augmented_images\"\n",
        "\n",
        "augment_image(image_path, output_dir)\n",
        "\n",
        "print(f\"Augmented images saved to {output_dir}\")"
      ],
      "metadata": {
        "id": "fhIAJRT7is8W"
      },
      "execution_count": null,
      "outputs": []
    },
    {
      "cell_type": "markdown",
      "source": [
        "Augment"
      ],
      "metadata": {
        "id": "gjngk1d0iVGV"
      }
    },
    {
      "cell_type": "code",
      "source": [
        "def augment_image(image_path, output_dir, num_augmentations=25):\n",
        "  \"\"\"\n",
        "  Augments an image and saves the augmented images to a directory.\n",
        "\n",
        "  Args:\n",
        "      image_path: Path to the input image.\n",
        "      output_dir: Directory to save the augmented images.\n",
        "      num_augmentations: Number of augmented images to generate.\n",
        "  \"\"\"\n",
        "\n",
        "  try:\n",
        "    image = Image.open(image_path)\n",
        "  except FileNotFoundError:\n",
        "    print(f\"Error: Image file not found at {image_path}\")\n",
        "    return\n",
        "\n",
        "  # Define augmentations\n",
        "  augmentations = transforms.Compose([\n",
        "      transforms.RandomHorizontalFlip(),\n",
        "      transforms.RandomRotation(30),\n",
        "      transforms.ColorJitter(brightness=0.2, contrast=0.2, saturation=0.2, hue=0.1),\n",
        "      transforms.Resize((256, 256)),  # Example resize\n",
        "      transforms.ToTensor(),\n",
        "  ])\n",
        "\n",
        "  os.makedirs(output_dir, exist_ok=True)\n",
        "\n",
        "  for i in range(num_augmentations):\n",
        "    augmented_image = augmentations(image)\n",
        "    augmented_image = transforms.ToPILImage()(augmented_image)\n",
        "    augmented_image.save(os.path.join(output_dir, f\"augmented_{i}.jpg\"))"
      ],
      "metadata": {
        "id": "DC6hWN-biVmW"
      },
      "execution_count": null,
      "outputs": []
    },
    {
      "cell_type": "markdown",
      "source": [],
      "metadata": {
        "id": "wQ1M4HehiV8g"
      }
    }
  ]
}